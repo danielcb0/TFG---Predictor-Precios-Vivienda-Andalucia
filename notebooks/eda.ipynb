{
 "cells": [
  {
   "cell_type": "markdown",
   "id": "48e3e1bd",
   "metadata": {},
   "source": [
    "# Preprocesamiento y Análisis Exploratorio de Datos de Viviendas en Andalucía\n",
    "\n",
    "Un cuaderno Jupyter para el preprocesamiento y análisis exploratorio de datos de viviendas en venta en Andalucía."
   ]
  },
  {
   "cell_type": "markdown",
   "id": "9c5c7d35",
   "metadata": {},
   "source": [
    "## Carga de Librerías y Conjunto de Datos\n",
    "Importar librerías esenciales como pandas, numpy, matplotlib y seaborn. Cargar el archivo CSV de viviendas en un DataFrame de pandas. Mostrar las primeras filas del DataFrame (`head()`) para una vista previa inicial y verificar la correcta carga de los datos. Incluir comentarios sobre los datos cargados."
   ]
  },
  {
   "cell_type": "code",
   "execution_count": 1,
   "id": "4602dcad",
   "metadata": {},
   "outputs": [],
   "source": [
    "# Importar librerías\n",
    "import pandas as pd\n",
    "import numpy as np\n",
    "import matplotlib.pyplot as plt\n",
    "import seaborn as sns\n",
    "\n",
    "# Configuración para visualizaciones\n",
    "%matplotlib inline\n",
    "sns.set(style=\"whitegrid\")"
   ]
  },
  {
   "cell_type": "code",
   "execution_count": 20,
   "id": "064b28b2",
   "metadata": {},
   "outputs": [
    {
     "name": "stdout",
     "output_type": "stream",
     "text": [
      "Primeras 5 filas del conjunto de datos:\n",
      "     Price Property Type  Size (m2)  Number of Rooms  Number of Bathrooms  \\\n",
      "0   5800.0  countryHouse      168.0                4                    1   \n",
      "1   9000.0        chalet       60.0                2                    1   \n",
      "2   9500.0        chalet      115.0                3                    1   \n",
      "3   9900.0        chalet       81.0                3                    2   \n",
      "4  10000.0          flat       45.0                2                    1   \n",
      "\n",
      "    Latitude  Longitude              Location  \n",
      "0  37.118491  -2.538960      el almendral s/n  \n",
      "1  37.353431  -2.298467     calle San Antonio  \n",
      "2  37.354983  -2.296607         Olula del Río  \n",
      "3  37.038685  -2.744675       calle Lucero, 3  \n",
      "4  36.840707  -2.476512  calle Juan Goytisolo  \n"
     ]
    }
   ],
   "source": [
    "# Cargar el conjunto de datos\n",
    "# Reemplaza 'nombre_del_archivo.csv' con el nombre real de tu archivo de datos.\n",
    "# Asegúrate de que el archivo CSV esté en la misma carpeta que este notebook,\n",
    "# o proporciona la ruta completa al archivo.\n",
    "try:\n",
    "    df = pd.read_csv('../data/processed/andalucia_raw.csv') # Ejemplo de nombre de archivo\n",
    "except FileNotFoundError:\n",
    "    print(\"Archivo no encontrado. Asegúrate de que 'andalucia_raw.csv' existe en la ruta correcta.\")\n",
    "    df = pd.DataFrame() # Crear un DataFrame vacío para evitar errores en celdas posteriores si el archivo no se carga\n",
    "\n",
    "# Mostrar las primeras filas del DataFrame\n",
    "if not df.empty:\n",
    "    print(\"Primeras 5 filas del conjunto de datos:\")\n",
    "    print(df.head())\n",
    "else:\n",
    "    print(\"El DataFrame está vacío porque el archivo no se pudo cargar.\")"
   ]
  },
  {
   "cell_type": "markdown",
   "id": "d1abc3f5",
   "metadata": {},
   "source": [
    "### Comentarios sobre los Datos Cargados\n",
    "*   Verificar que las columnas se han cargado correctamente con los nombres esperados.\n",
    "*   Observar los tipos de datos inferidos inicialmente por pandas.\n",
    "*   Identificar si el separador del CSV (coma, punto y coma, etc.) fue el correcto.\n",
    "*   Anotar cualquier observación inmediata sobre los valores (ej. presencia de unidades en columnas numéricas, formatos de fecha, etc.)."
   ]
  },
  {
   "cell_type": "markdown",
   "id": "0a3d0d89",
   "metadata": {},
   "source": [
    "## Inspección Inicial del Conjunto de Datos\n",
    "Realizar una inspección básica del DataFrame: usar `info()` para obtener un resumen de los tipos de datos por columna y el conteo de valores no nulos. Utilizar `describe()` para obtener estadísticas descriptivas de las columnas numéricas (media, desviación estándar, mínimos, máximos, cuartiles). Comprobar las dimensiones del DataFrame (`shape`). Documentar las observaciones iniciales sobre la estructura y contenido."
   ]
  },
  {
   "cell_type": "code",
   "execution_count": 5,
   "id": "b8c51c42",
   "metadata": {},
   "outputs": [
    {
     "name": "stdout",
     "output_type": "stream",
     "text": [
      "Información general del DataFrame:\n",
      "<class 'pandas.core.frame.DataFrame'>\n",
      "RangeIndex: 213360 entries, 0 to 213359\n",
      "Data columns (total 8 columns):\n",
      " #   Column               Non-Null Count   Dtype  \n",
      "---  ------               --------------   -----  \n",
      " 0   Price                213360 non-null  float64\n",
      " 1   Property Type        213360 non-null  object \n",
      " 2   Size (m2)            213360 non-null  float64\n",
      " 3   Number of Rooms      213360 non-null  int64  \n",
      " 4   Number of Bathrooms  213360 non-null  int64  \n",
      " 5   Latitude             213360 non-null  float64\n",
      " 6   Longitude            213360 non-null  float64\n",
      " 7   Location             213360 non-null  object \n",
      "dtypes: float64(4), int64(2), object(2)\n",
      "memory usage: 13.0+ MB\n"
     ]
    }
   ],
   "source": [
    "# Información general del DataFrame\n",
    "if not df.empty:\n",
    "    print(\"Información general del DataFrame:\")\n",
    "    df.info()\n",
    "else:\n",
    "    print(\"El DataFrame está vacío.\")"
   ]
  },
  {
   "cell_type": "code",
   "execution_count": 6,
   "id": "f382db11",
   "metadata": {},
   "outputs": [
    {
     "name": "stdout",
     "output_type": "stream",
     "text": [
      "\n",
      "Estadísticas descriptivas:\n",
      "               Price Property Type      Size (m2)  Number of Rooms  \\\n",
      "count   2.133600e+05        213360  213360.000000    213360.000000   \n",
      "unique           NaN             6            NaN              NaN   \n",
      "top              NaN        chalet            NaN              NaN   \n",
      "freq             NaN        109636            NaN              NaN   \n",
      "mean    7.515792e+05           NaN     441.877824         3.770829   \n",
      "std     1.877872e+06           NaN    9431.845459         2.240825   \n",
      "min     3.525000e+03           NaN       9.000000         0.000000   \n",
      "25%     6.200000e+04           NaN      89.000000         3.000000   \n",
      "50%     1.074750e+05           NaN     140.000000         3.000000   \n",
      "75%     5.900000e+05           NaN     280.000000         5.000000   \n",
      "max     3.500000e+07           NaN  999999.000000        70.000000   \n",
      "\n",
      "        Number of Bathrooms       Latitude      Longitude Location  \n",
      "count         213360.000000  213360.000000  213360.000000   213360  \n",
      "unique                  NaN            NaN            NaN    12985  \n",
      "top                     NaN            NaN            NaN   Centro  \n",
      "freq                    NaN            NaN            NaN     1379  \n",
      "mean               2.406529      37.077809      -4.885398      NaN  \n",
      "std                1.945433       0.484112       1.323005      NaN  \n",
      "min                0.000000      36.010355      -7.493002      NaN  \n",
      "25%                1.000000      36.738566      -5.976372      NaN  \n",
      "50%                2.000000      37.164884      -4.959610      NaN  \n",
      "75%                3.000000      37.378004      -3.731967      NaN  \n",
      "max               35.000000      38.596052      -1.743577      NaN  \n"
     ]
    }
   ],
   "source": [
    "# Estadísticas descriptivas de las columnas numéricas\n",
    "if not df.empty:\n",
    "    print(\"\\nEstadísticas descriptivas:\")\n",
    "    # Incluir todos los tipos para una visión más completa, luego filtrar si es necesario\n",
    "    print(df.describe(include='all'))\n",
    "else:\n",
    "    print(\"El DataFrame está vacío.\")"
   ]
  },
  {
   "cell_type": "code",
   "execution_count": 7,
   "id": "81986534",
   "metadata": {},
   "outputs": [
    {
     "name": "stdout",
     "output_type": "stream",
     "text": [
      "\n",
      "Dimensiones del DataFrame (filas, columnas):\n",
      "(213360, 8)\n"
     ]
    }
   ],
   "source": [
    "# Dimensiones del DataFrame (filas, columnas)\n",
    "if not df.empty:\n",
    "    print(\"\\nDimensiones del DataFrame (filas, columnas):\")\n",
    "    print(df.shape)\n",
    "else:\n",
    "    print(\"El DataFrame está vacío.\")"
   ]
  },
  {
   "cell_type": "markdown",
   "id": "e197b4d1",
   "metadata": {},
   "source": [
    "### Observaciones Iniciales\n",
    "*   **Tipos de Datos:** Anotar columnas que podrían necesitar conversión de tipo (ej. object a numérico o datetime).\n",
    "*   **Valores Nulos:** Identificar columnas con un alto porcentaje de valores ausentes. `info()` da una primera pista.\n",
    "*   **Estadísticas Descriptivas:**\n",
    "    *   Para columnas numéricas: observar rangos (min-max), media vs. mediana (para asimetría), desviación estándar (dispersión).\n",
    "    *   Para columnas categóricas (object): `describe(include='object')` mostrará conteos, valores únicos, el más frecuente (top) y su frecuencia (freq).\n",
    "*   **Dimensiones:** Anotar el número total de registros y características."
   ]
  },
  {
   "cell_type": "markdown",
   "id": "57e477c4",
   "metadata": {},
   "source": [
    "## Manejo de Valores Ausentes y Duplicados\n",
    "Identificar y cuantificar los valores ausentes (`isnull().sum()`) en cada columna. Discutir y aplicar estrategias para tratar estos valores (ej. eliminación de filas/columnas, imputación con media/mediana/moda). Identificar y eliminar filas duplicadas (`duplicated().sum()`, `drop_duplicates()`). Justificar las decisiones tomadas y comentar el impacto en el dataset."
   ]
  },
  {
   "cell_type": "code",
   "execution_count": 8,
   "id": "eed7c30d",
   "metadata": {},
   "outputs": [
    {
     "name": "stdout",
     "output_type": "stream",
     "text": [
      "Valores ausentes por columna:\n",
      "Series([], dtype: int64)\n"
     ]
    }
   ],
   "source": [
    "# Identificar y cuantificar valores ausentes\n",
    "if not df.empty:\n",
    "    print(\"Valores ausentes por columna:\")\n",
    "    missing_values = df.isnull().sum()\n",
    "    print(missing_values[missing_values > 0]) # Mostrar solo columnas con valores ausentes\n",
    "else:\n",
    "    print(\"El DataFrame está vacío.\")"
   ]
  },
  {
   "cell_type": "markdown",
   "id": "1da444dd",
   "metadata": {},
   "source": [
    "### Estrategias para Tratar Valores Ausentes\n",
    "*   **Eliminación:**\n",
    "    *   **Filas:** Si el porcentaje de datos ausentes en una fila es muy alto o si la cantidad de filas con ausentes es pequeña respecto al total.\n",
    "    *   **Columnas:** Si una columna tiene demasiados valores ausentes y no es crucial para el análisis, o si la información no puede ser recuperada.\n",
    "*   **Imputación:**\n",
    "    *   **Media/Mediana:** Para variables numéricas. La mediana es preferible si hay outliers.\n",
    "    *   **Moda:** Para variables categóricas.\n",
    "    *   **Valor Constante:** Usar un valor específico (ej. \"Desconocido\" para categorías, 0 para números si tiene sentido).\n",
    "    *   **Imputación Avanzada:** Modelos predictivos (ej. k-NN) para predecir los valores ausentes.\n",
    "\n",
    "La elección dependerá del contexto, la cantidad de datos ausentes y la naturaleza de la variable."
   ]
  },
  {
   "cell_type": "code",
   "execution_count": 9,
   "id": "4c1cca08",
   "metadata": {},
   "outputs": [
    {
     "name": "stdout",
     "output_type": "stream",
     "text": [
      "Ejemplo: Si 'columna_numerica_ejemplo' tuviera NaN, se podría imputar con la mediana.\n",
      "\n",
      "Revisar valores ausentes después de la estrategia aplicada (si se aplicó alguna):\n"
     ]
    }
   ],
   "source": [
    "# Ejemplo de manejo de valores ausentes (adaptar según sea necesario)\n",
    "if not df.empty:\n",
    "    # Opción 1: Eliminar filas con cualquier valor ausente (usar con precaución)\n",
    "    # df_cleaned = df.dropna()\n",
    "    # print(f\"Filas antes de dropna: {len(df)}, Filas después: {len(df_cleaned)}\")\n",
    "\n",
    "    # Opción 2: Eliminar columnas con más de un X% de valores ausentes\n",
    "    # threshold = len(df) * 0.5 # Ejemplo: 50%\n",
    "    # df_cleaned = df.dropna(thresh=threshold, axis=1)\n",
    "\n",
    "    # Opción 3: Imputar valores ausentes\n",
    "    # Para columnas numéricas (ej. 'precio', 'superficie'):\n",
    "    # df['precio'].fillna(df['precio'].median(), inplace=True)\n",
    "    # df['superficie'].fillna(df['superficie'].mean(), inplace=True)\n",
    "    \n",
    "    # Para columnas categóricas (ej. 'tipo_inmueble'):\n",
    "    # df['tipo_inmueble'].fillna(df['tipo_inmueble'].mode()[0], inplace=True)\n",
    "    \n",
    "    # Por ahora, solo mostraremos cómo se haría, pero no modificaremos df directamente\n",
    "    # hasta que se decida la estrategia específica.\n",
    "    print(\"Ejemplo: Si 'columna_numerica_ejemplo' tuviera NaN, se podría imputar con la mediana.\")\n",
    "    # if 'columna_numerica_ejemplo' in df.columns:\n",
    "    #     df['columna_numerica_ejemplo'].fillna(df['columna_numerica_ejemplo'].median(), inplace=True)\n",
    "    \n",
    "    print(\"\\nRevisar valores ausentes después de la estrategia aplicada (si se aplicó alguna):\")\n",
    "    # print(df.isnull().sum()[df.isnull().sum() > 0])\n",
    "else:\n",
    "    print(\"El DataFrame está vacío.\")"
   ]
  },
  {
   "cell_type": "code",
   "execution_count": 10,
   "id": "e6117f1b",
   "metadata": {},
   "outputs": [
    {
     "name": "stdout",
     "output_type": "stream",
     "text": [
      "\n",
      "Número de filas duplicadas:\n",
      "188339\n"
     ]
    }
   ],
   "source": [
    "# Identificar filas duplicadas\n",
    "if not df.empty:\n",
    "    print(\"\\nNúmero de filas duplicadas:\")\n",
    "    num_duplicates = df.duplicated().sum()\n",
    "    print(num_duplicates)\n",
    "else:\n",
    "    print(\"El DataFrame está vacío.\")"
   ]
  },
  {
   "cell_type": "code",
   "execution_count": 11,
   "id": "906800ea",
   "metadata": {},
   "outputs": [
    {
     "name": "stdout",
     "output_type": "stream",
     "text": [
      "\n",
      "Dimensiones originales: (213360, 8)\n",
      "Dimensiones después de eliminar duplicados: (25021, 8)\n"
     ]
    }
   ],
   "source": [
    "# Eliminar filas duplicadas (si existen y se decide hacerlo)\n",
    "if not df.empty and num_duplicates > 0:\n",
    "    df_original_shape = df.shape\n",
    "    df.drop_duplicates(inplace=True)\n",
    "    print(f\"\\nDimensiones originales: {df_original_shape}\")\n",
    "    print(f\"Dimensiones después de eliminar duplicados: {df.shape}\")\n",
    "else:\n",
    "    print(\"\\nNo hay duplicados para eliminar o el DataFrame está vacío.\")"
   ]
  },
  {
   "cell_type": "markdown",
   "id": "c4c11649",
   "metadata": {},
   "source": [
    "### Justificación y Comentarios sobre el Manejo de Ausentes/Duplicados\n",
    "*   **Valores Ausentes:** Documentar qué columnas tenían valores ausentes, cuántos, y qué estrategia se aplicó (ej. \"La columna 'baños' tenía un 20% de ausentes; se imputaron con la mediana debido a la distribución asimétrica\").\n",
    "*   **Duplicados:** Indicar si se encontraron y eliminaron filas duplicadas. La eliminación de duplicados es generalmente una buena práctica para evitar sesgos.\n",
    "*   **Impacto:** Comentar cómo estas operaciones han afectado las dimensiones del dataset."
   ]
  },
  {
   "cell_type": "markdown",
   "id": "100feb95",
   "metadata": {},
   "source": [
    "## Limpieza y Transformación de Datos\n",
    "Convertir columnas a sus tipos de datos correctos si es necesario (ej. columnas de precios a tipo numérico, fechas a tipo datetime) usando `astype()`. Limpiar columnas de texto que puedan contener unidades o caracteres especiales (ej. '€', 'm²', etc.) para facilitar el análisis numérico, utilizando funciones de string de pandas. Documentar cada transformación y su propósito."
   ]
  },
  {
   "cell_type": "code",
   "execution_count": 12,
   "id": "6031a93a",
   "metadata": {},
   "outputs": [
    {
     "name": "stdout",
     "output_type": "stream",
     "text": [
      "Tipos de datos antes de la transformación:\n",
      "Price                  float64\n",
      "Property Type           object\n",
      "Size (m2)              float64\n",
      "Number of Rooms          int64\n",
      "Number of Bathrooms      int64\n",
      "Latitude               float64\n",
      "Longitude              float64\n",
      "Location                object\n",
      "dtype: object\n",
      "\n",
      "Tipos de datos después de la transformación:\n",
      "Price                  float64\n",
      "Property Type           object\n",
      "Size (m2)              float64\n",
      "Number of Rooms          int64\n",
      "Number of Bathrooms      int64\n",
      "Latitude               float64\n",
      "Longitude              float64\n",
      "Location                object\n",
      "dtype: object\n",
      "\n",
      "Valores ausentes después de transformaciones:\n",
      "Series([], dtype: int64)\n"
     ]
    }
   ],
   "source": [
    "# Ejemplo de conversión de tipos y limpieza de columnas\n",
    "if not df.empty:\n",
    "    print(\"Tipos de datos antes de la transformación:\")\n",
    "    print(df.dtypes)\n",
    "\n",
    "    # Ejemplo: Convertir columna 'precio' a numérico (si es object y contiene '€' o '.')\n",
    "    # Asumimos que 'precio' es una columna que podría estar como '150.000 €'\n",
    "    if 'precio' in df.columns and df['precio'].dtype == 'object':\n",
    "        print(\"\\nTransformando columna 'precio'...\")\n",
    "        # Eliminar '€', reemplazar '.' de miles y ',' de decimales si es necesario\n",
    "        # Esta es una limpieza genérica, adaptar a los datos específicos\n",
    "        df['precio_str'] = df['precio'].astype(str) # Asegurar que es string\n",
    "        df['precio'] = df['precio_str'].str.replace('€', '', regex=False).str.replace('.', '', regex=False).str.replace(',', '.', regex=False).str.strip()\n",
    "        # Convertir a numérico, los errores se convierten en NaN\n",
    "        df['precio'] = pd.to_numeric(df['precio'], errors='coerce')\n",
    "        df.drop(columns=['precio_str'], inplace=True, errors='ignore') # Eliminar columna temporal\n",
    "        print(\"Columna 'precio' transformada.\")\n",
    "\n",
    "    # Ejemplo: Convertir columna 'superficie' a numérico (si es object y contiene 'm²')\n",
    "    # Asumimos que 'superficie' es una columna que podría estar como '120 m²'\n",
    "    if 'superficie' in df.columns and df['superficie'].dtype == 'object':\n",
    "        print(\"\\nTransformando columna 'superficie'...\")\n",
    "        df['superficie_str'] = df['superficie'].astype(str) # Asegurar que es string\n",
    "        df['superficie'] = df['superficie_str'].str.replace('m²', '', regex=False).str.extract(r'(\\d+)').astype(float) # Extraer solo números\n",
    "        df.drop(columns=['superficie_str'], inplace=True, errors='ignore') # Eliminar columna temporal\n",
    "        print(\"Columna 'superficie' transformada.\")\n",
    "\n",
    "    # Ejemplo: Convertir una columna de fecha (si existe y es object)\n",
    "    # if 'fecha_publicacion' in df.columns and df['fecha_publicacion'].dtype == 'object':\n",
    "    #     print(\"\\nTransformando columna 'fecha_publicacion' a datetime...\")\n",
    "    #     df['fecha_publicacion'] = pd.to_datetime(df['fecha_publicacion'], errors='coerce')\n",
    "    #     print(\"Columna 'fecha_publicacion' transformada.\")\n",
    "\n",
    "    print(\"\\nTipos de datos después de la transformación:\")\n",
    "    print(df.dtypes)\n",
    "    \n",
    "    # Verificar si las transformaciones introdujeron nuevos NaNs\n",
    "    print(\"\\nValores ausentes después de transformaciones:\")\n",
    "    print(df.isnull().sum()[df.isnull().sum() > 0])\n",
    "else:\n",
    "    print(\"El DataFrame está vacío.\")"
   ]
  },
  {
   "cell_type": "markdown",
   "id": "97c38be1",
   "metadata": {},
   "source": [
    "### Documentación de Transformaciones\n",
    "*   **Columna 'precio':** (Ejemplo) Convertida de `object` a `float`. Se eliminaron los símbolos '€' y los separadores de miles ('.') y se reemplazó la coma decimal ',' por '.' antes de la conversión. Los valores no convertibles se transformaron en NaN.\n",
    "*   **Columna 'superficie':** (Ejemplo) Convertida de `object` a `float`. Se eliminó 'm²' y se extrajeron los valores numéricos.\n",
    "*   **Otras Columnas:** Documentar cualquier otra transformación realizada (ej. 'habitaciones', 'baños' a `int` si son `float` sin decimales o `object`).\n",
    "*   **Nuevos NaNs:** Es importante revisar si las operaciones de limpieza (ej. `pd.to_numeric(errors='coerce')`) introdujeron nuevos valores NaN y decidir cómo manejarlos."
   ]
  },
  {
   "cell_type": "markdown",
   "id": "4ebdf1ed",
   "metadata": {},
   "source": [
    "## Análisis Exploratorio de Datos (EDA) - Univariante\n",
    "Analizar la distribución de variables numéricas clave (ej. precio, superficie, número de habitaciones) mediante histogramas y diagramas de caja (boxplots) para identificar la forma de la distribución, la tendencia central, la dispersión y posibles valores atípicos. Analizar la frecuencia de variables categóricas importantes (ej. provincia, ciudad, tipo de inmueble) utilizando gráficos de barras. Interpretar cada gráfico y extraer conclusiones."
   ]
  },
  {
   "cell_type": "code",
   "execution_count": 13,
   "id": "ed012498",
   "metadata": {},
   "outputs": [],
   "source": [
    "# EDA Univariante - Variables Numéricas\n",
    "if not df.empty:\n",
    "    numerical_cols = df.select_dtypes(include=np.number).columns.tolist()\n",
    "    # Columnas de ejemplo, adaptar a las columnas numéricas relevantes de tu dataset\n",
    "    cols_to_plot_numeric = [col for col in ['precio', 'superficie', 'habitaciones', 'baños'] if col in numerical_cols]\n",
    "\n",
    "    for col in cols_to_plot_numeric:\n",
    "        if col in df.columns and pd.api.types.is_numeric_dtype(df[col]):\n",
    "            plt.figure(figsize=(12, 5))\n",
    "\n",
    "            plt.subplot(1, 2, 1)\n",
    "            sns.histplot(df[col], kde=True)\n",
    "            plt.title(f'Histograma de {col}')\n",
    "\n",
    "            plt.subplot(1, 2, 2)\n",
    "            sns.boxplot(y=df[col])\n",
    "            plt.title(f'Boxplot de {col}')\n",
    "\n",
    "            plt.tight_layout()\n",
    "            plt.show()\n",
    "            \n",
    "            print(f\"Estadísticas descriptivas para '{col}':\")\n",
    "            print(df[col].describe())\n",
    "            print(\"-\" * 50)\n",
    "        else:\n",
    "            print(f\"La columna '{col}' no es numérica o no existe. Saltando gráfico.\")\n",
    "else:\n",
    "    print(\"El DataFrame está vacío. No se pueden generar gráficos univariantes numéricos.\")"
   ]
  },
  {
   "cell_type": "code",
   "execution_count": 14,
   "id": "883e5e29",
   "metadata": {},
   "outputs": [],
   "source": [
    "# EDA Univariante - Variables Categóricas\n",
    "if not df.empty:\n",
    "    categorical_cols = df.select_dtypes(include='object').columns.tolist()\n",
    "    # Columnas de ejemplo, adaptar a las columnas categóricas relevantes de tu dataset\n",
    "    # También se pueden incluir columnas numéricas que representen categorías, como 'num_habitaciones' si se trata como tal.\n",
    "    cols_to_plot_categorical = [col for col in ['provincia', 'ciudad', 'tipo_inmueble', 'estado_conservacion'] if col in df.columns]\n",
    "\n",
    "    for col in cols_to_plot_categorical:\n",
    "        if col in df.columns:\n",
    "            plt.figure(figsize=(10, 6))\n",
    "            # Si hay muchas categorías únicas, mostrar solo las N más frecuentes\n",
    "            top_n = 15 \n",
    "            if df[col].nunique() > top_n:\n",
    "                sns.countplot(y=df[col], order=df[col].value_counts().iloc[:top_n].index, palette=\"viridis\")\n",
    "                plt.title(f'Top {top_n} Frecuencias de {col}')\n",
    "            else:\n",
    "                sns.countplot(y=df[col], order=df[col].value_counts().index, palette=\"viridis\")\n",
    "                plt.title(f'Frecuencia de {col}')\n",
    "            plt.xlabel('Frecuencia')\n",
    "            plt.ylabel(col)\n",
    "            plt.tight_layout()\n",
    "            plt.show()\n",
    "            \n",
    "            print(f\"Frecuencias para '{col}':\")\n",
    "            print(df[col].value_counts(normalize=True).head()) # Mostrar porcentajes de los más frecuentes\n",
    "            print(\"-\" * 50)\n",
    "        else:\n",
    "            print(f\"La columna '{col}' no existe. Saltando gráfico.\")\n",
    "else:\n",
    "    print(\"El DataFrame está vacío. No se pueden generar gráficos univariantes categóricos.\")"
   ]
  },
  {
   "cell_type": "markdown",
   "id": "306edc52",
   "metadata": {},
   "source": [
    "### Interpretación de Gráficos Univariantes\n",
    "*   **Variables Numéricas (Histogramas y Boxplots):**\n",
    "    *   **Distribución:** ¿Es simétrica, sesgada a la derecha (positiva), sesgada a la izquierda (negativa)? ¿Es unimodal, bimodal, multimodal?\n",
    "    *   **Tendencia Central:** ¿Dónde se concentran los datos (media, mediana)?\n",
    "    *   **Dispersión:** ¿Cuán dispersos están los datos (rango intercuartílico, desviación estándar)?\n",
    "    *   **Outliers:** ¿Hay valores atípicos significativos visibles en los boxplots? ¿Cómo podrían afectar al análisis?\n",
    "*   **Variables Categóricas (Gráficos de Barras):**\n",
    "    *   **Frecuencias:** ¿Cuáles son las categorías más y menos comunes?\n",
    "    *   **Desbalance:** ¿Hay alguna categoría que domine fuertemente? Esto es importante para el modelado.\n",
    "    *   **Número de Categorías Únicas:** Un número muy alto de categorías únicas puede requerir agrupación o técnicas de codificación especiales."
   ]
  },
  {
   "cell_type": "markdown",
   "id": "ef465eda",
   "metadata": {},
   "source": [
    "## Análisis Exploratorio de Datos (EDA) - Bivariante y Multivariante\n",
    "Explorar relaciones entre pares de variables. Usar diagramas de dispersión (scatter plots) para visualizar la relación entre variables numéricas (ej. precio vs. superficie, precio vs. número de habitaciones). Calcular y visualizar la matriz de correlación (heatmap) entre las variables numéricas para identificar correlaciones lineales. Comentar los patrones y relaciones observadas."
   ]
  },
  {
   "cell_type": "code",
   "execution_count": 15,
   "id": "33ae88fb",
   "metadata": {},
   "outputs": [
    {
     "name": "stdout",
     "output_type": "stream",
     "text": [
      "La variable objetivo 'precio' no es numérica o no existe.\n"
     ]
    }
   ],
   "source": [
    "# EDA Bivariante - Numérica vs Numérica (Scatter plots)\n",
    "if not df.empty:\n",
    "    # Asumimos que 'precio' es nuestra variable objetivo principal\n",
    "    target_variable = 'precio'\n",
    "    \n",
    "    # Seleccionar algunas variables numéricas para comparar con el precio\n",
    "    # Asegurarse de que estas columnas existen y son numéricas después de la limpieza\n",
    "    numerical_features_for_scatter = [col for col in ['superficie', 'habitaciones', 'baños'] if col in df.columns and pd.api.types.is_numeric_dtype(df[col])]\n",
    "\n",
    "    if target_variable in df.columns and pd.api.types.is_numeric_dtype(df[target_variable]):\n",
    "        for feature in numerical_features_for_scatter:\n",
    "            if feature != target_variable: # Evitar plotear una variable contra sí misma\n",
    "                plt.figure(figsize=(8, 6))\n",
    "                sns.scatterplot(data=df, x=feature, y=target_variable, alpha=0.5)\n",
    "                plt.title(f'Relación entre {target_variable} y {feature}')\n",
    "                plt.xlabel(feature)\n",
    "                plt.ylabel(target_variable)\n",
    "                plt.show()\n",
    "    else:\n",
    "        print(f\"La variable objetivo '{target_variable}' no es numérica o no existe.\")\n",
    "else:\n",
    "    print(\"El DataFrame está vacío. No se pueden generar scatter plots.\")"
   ]
  },
  {
   "cell_type": "code",
   "execution_count": 16,
   "id": "a270b12b",
   "metadata": {},
   "outputs": [
    {
     "data": {
      "image/png": "[encoded data removed]",
      "text/plain": [
       "<Figure size 1200x1000 with 2 Axes>"
      ]
     },
     "metadata": {},
     "output_type": "display_data"
    },
    {
     "name": "stdout",
     "output_type": "stream",
     "text": [
      "\n",
      "Correlaciones con la variable 'precio' (ordenadas):\n",
      "La columna 'precio' no está en las variables numéricas para correlación.\n"
     ]
    }
   ],
   "source": [
    "# EDA Bivariante/Multivariante - Matriz de Correlación (Heatmap)\n",
    "if not df.empty:\n",
    "    # Seleccionar solo columnas numéricas para la matriz de correlación\n",
    "    df_numeric = df.select_dtypes(include=np.number)\n",
    "    \n",
    "    if not df_numeric.empty:\n",
    "        correlation_matrix = df_numeric.corr()\n",
    "        \n",
    "        plt.figure(figsize=(12, 10))\n",
    "        sns.heatmap(correlation_matrix, annot=True, cmap='coolwarm', fmt=\".2f\", linewidths=.5)\n",
    "        plt.title('Matriz de Correlación de Variables Numéricas')\n",
    "        plt.show()\n",
    "        \n",
    "        print(\"\\nCorrelaciones con la variable 'precio' (ordenadas):\")\n",
    "        if 'precio' in correlation_matrix:\n",
    "            print(correlation_matrix['precio'].sort_values(ascending=False))\n",
    "        else:\n",
    "            print(\"La columna 'precio' no está en las variables numéricas para correlación.\")\n",
    "    else:\n",
    "        print(\"No hay suficientes columnas numéricas para generar una matriz de correlación.\")\n",
    "else:\n",
    "    print(\"El DataFrame está vacío. No se puede generar la matriz de correlación.\")"
   ]
  },
  {
   "cell_type": "markdown",
   "id": "134bde8b",
   "metadata": {},
   "source": [
    "### Comentarios sobre Patrones y Relaciones (Bivariante/Multivariante)\n",
    "*   **Scatter Plots (Numérica vs Numérica):**\n",
    "    *   **Tendencia:** ¿Se observa alguna tendencia (lineal positiva/negativa, no lineal)? Por ejemplo, ¿aumenta el precio con la superficie?\n",
    "    *   **Fuerza de la Relación:** ¿Cuán agrupados están los puntos alrededor de una posible tendencia?\n",
    "    *   **Outliers:** ¿Hay puntos que se desvían significativamente del patrón general?\n",
    "*   **Matriz de Correlación (Heatmap):**\n",
    "    *   **Correlaciones Fuertes:** Identificar pares de variables con coeficientes de correlación altos (cercanos a 1 o -1).\n",
    "    *   **Correlaciones con la Variable Objetivo:** Prestar especial atención a las variables que tienen una correlación fuerte con la variable objetivo (ej. 'precio').\n",
    "    *   **Multicolinealidad:** Identificar si hay variables predictoras fuertemente correlacionadas entre sí, lo cual puede ser un problema para algunos modelos de regresión.\n",
    "    *   **Ausencia de Correlación Lineal:** Un coeficiente cercano a 0 no implica ausencia de relación, solo ausencia de relación *lineal*."
   ]
  },
  {
   "cell_type": "markdown",
   "id": "3a9c1cfb",
   "metadata": {},
   "source": [
    "## Ingeniería de Características\n",
    "Crear nuevas características (columnas) a partir de las existentes que puedan aportar valor al análisis. Por ejemplo, calcular el precio por metro cuadrado. Explicar la lógica detrás de cada nueva característica creada y cómo podría ser útil para análisis posteriores o modelos predictivos."
   ]
  },
  {
   "cell_type": "code",
   "execution_count": 17,
   "id": "5069d1e0",
   "metadata": {},
   "outputs": [
    {
     "name": "stdout",
     "output_type": "stream",
     "text": [
      "Creando nuevas características...\n",
      "  - No se pudo crear 'precio_m2': Faltan las columnas 'precio' o 'superficie'.\n",
      "\n",
      "DataFrame con nuevas características (primeras filas):\n",
      "     Price Property Type  Size (m2)  Number of Rooms  Number of Bathrooms  \\\n",
      "0   5800.0  countryHouse      168.0                4                    1   \n",
      "1   9000.0        chalet       60.0                2                    1   \n",
      "2   9500.0        chalet      115.0                3                    1   \n",
      "3   9900.0        chalet       81.0                3                    2   \n",
      "4  10000.0          flat       45.0                2                    1   \n",
      "\n",
      "    Latitude  Longitude              Location  \n",
      "0  37.118491  -2.538960      el almendral s/n  \n",
      "1  37.353431  -2.298467     calle San Antonio  \n",
      "2  37.354983  -2.296607         Olula del Río  \n",
      "3  37.038685  -2.744675       calle Lucero, 3  \n",
      "4  36.840707  -2.476512  calle Juan Goytisolo  \n"
     ]
    }
   ],
   "source": [
    "# Ingeniería de Características\n",
    "if not df.empty:\n",
    "    print(\"Creando nuevas características...\")\n",
    "\n",
    "    # 1. Precio por metro cuadrado\n",
    "    if 'precio' in df.columns and 'superficie' in df.columns:\n",
    "        if pd.api.types.is_numeric_dtype(df['precio']) and pd.api.types.is_numeric_dtype(df['superficie']):\n",
    "            # Evitar división por cero o por superficie muy pequeña que genere valores irreales\n",
    "            df['precio_m2'] = df.apply(lambda row: row['precio'] / row['superficie'] if row['superficie'] > 0 else np.nan, axis=1)\n",
    "            print(\"- Característica 'precio_m2' creada.\")\n",
    "            # Podríamos querer analizar la distribución de esta nueva característica\n",
    "            # sns.histplot(df['precio_m2'].dropna(), kde=True)\n",
    "            # plt.title('Distribución del Precio por Metro Cuadrado')\n",
    "            # plt.show()\n",
    "        else:\n",
    "            print(\"  - No se pudo crear 'precio_m2': 'precio' o 'superficie' no son numéricas.\")\n",
    "    else:\n",
    "        print(\"  - No se pudo crear 'precio_m2': Faltan las columnas 'precio' o 'superficie'.\")\n",
    "\n",
    "    # 2. Antigüedad de la propiedad (si hay columna de año de construcción)\n",
    "    # if 'ano_construccion' in df.columns:\n",
    "    #     from datetime import datetime\n",
    "    #     current_year = datetime.now().year\n",
    "    #     if pd.api.types.is_numeric_dtype(df['ano_construccion']):\n",
    "    #         df['antiguedad'] = current_year - df['ano_construccion']\n",
    "    #         print(\"- Característica 'antiguedad' creada.\")\n",
    "    #     else:\n",
    "    #         print(\"  - No se pudo crear 'antiguedad': 'ano_construccion' no es numérica.\")\n",
    "    # else:\n",
    "    #     print(\"  - No se pudo crear 'antiguedad': Falta la columna 'ano_construccion'.\")\n",
    "        \n",
    "    # 3. Ratio habitaciones/superficie\n",
    "    # if 'habitaciones' in df.columns and 'superficie' in df.columns:\n",
    "    #     if pd.api.types.is_numeric_dtype(df['habitaciones']) and pd.api.types.is_numeric_dtype(df['superficie']):\n",
    "    #         df['hab_por_m2'] = df.apply(lambda row: row['habitaciones'] / row['superficie'] if row['superficie'] > 0 else np.nan, axis=1)\n",
    "    #         print(\"- Característica 'hab_por_m2' creada.\")\n",
    "    #     else:\n",
    "    #         print(\"  - No se pudo crear 'hab_por_m2': 'habitaciones' o 'superficie' no son numéricas.\")\n",
    "    # else:\n",
    "    #     print(\"  - No se pudo crear 'hab_por_m2': Faltan las columnas 'habitaciones' o 'superficie'.\")\n",
    "\n",
    "    print(\"\\nDataFrame con nuevas características (primeras filas):\")\n",
    "    print(df.head())\n",
    "else:\n",
    "    print(\"El DataFrame está vacío. No se pueden crear nuevas características.\")"
   ]
  },
  {
   "cell_type": "markdown",
   "id": "7a7ecd31",
   "metadata": {},
   "source": [
    "### Lógica y Utilidad de las Nuevas Características\n",
    "*   **`precio_m2` (Precio por Metro Cuadrado):**\n",
    "    *   **Lógica:** Normaliza el precio en función de la superficie, permitiendo una comparación más equitativa entre propiedades de diferentes tamaños.\n",
    "    *   **Utilidad:** Puede ser un indicador clave del valor en diferentes zonas o para diferentes tipos de propiedades. Muy útil para modelos predictivos y para entender la valoración del mercado.\n",
    "*   **`antiguedad` (Antigüedad de la Propiedad):**\n",
    "    *   **Lógica:** Calcula cuántos años tiene la propiedad. Requiere una columna `ano_construccion`.\n",
    "    *   **Utilidad:** La antigüedad suele influir en el precio y en el estado de conservación. Puede revelar tendencias de precios para construcciones nuevas vs. antiguas.\n",
    "*   **`hab_por_m2` (Habitaciones por Metro Cuadrado):**\n",
    "    *   **Lógica:** Indica la \"densidad\" de habitaciones en una propiedad.\n",
    "    *   **Utilidad:** Podría ayudar a identificar distribuciones eficientes o propiedades con muchas habitaciones pequeñas vs. pocas habitaciones grandes.\n",
    "\n",
    "Es importante verificar las nuevas características (distribución, valores ausentes) después de crearlas."
   ]
  },
  {
   "cell_type": "markdown",
   "id": "ac0b7241",
   "metadata": {},
   "source": [
    "## Análisis Específico del Mercado Inmobiliario Andaluz\n",
    "Realizar análisis más enfocados en el contexto del mercado inmobiliario. Por ejemplo: calcular y comparar precios medios/medianos por provincia o ciudad importante. Analizar las características más comunes de las viviendas en diferentes segmentos de precio. Si los datos lo permiten, visualizar la distribución geográfica de las propiedades o de alguna variable de interés (ej. precio medio por zona). Extraer conclusiones específicas sobre el mercado inmobiliario andaluz basadas en los datos."
   ]
  },
  {
   "cell_type": "code",
   "execution_count": 18,
   "id": "e11644a5",
   "metadata": {},
   "outputs": [
    {
     "name": "stdout",
     "output_type": "stream",
     "text": [
      "La columna 'precio' no es numérica o no existe, o faltan 'provincia'/'ciudad'.\n"
     ]
    }
   ],
   "source": [
    "# Análisis de Precios Medios/Medianos por Provincia/Ciudad\n",
    "if not df.empty:\n",
    "    # Asegurarse de que 'precio' y 'provincia'/'ciudad' existen\n",
    "    if 'precio' in df.columns and pd.api.types.is_numeric_dtype(df['precio']):\n",
    "        if 'provincia' in df.columns:\n",
    "            plt.figure(figsize=(12, 7))\n",
    "            # Usar mediana para ser robusto a outliers\n",
    "            median_price_by_province = df.groupby('provincia')['precio'].median().sort_values(ascending=False)\n",
    "            sns.barplot(x=median_price_by_province.index, y=median_price_by_province.values, palette=\"crest\")\n",
    "            plt.title('Precio Mediano de Vivienda por Provincia en Andalucía')\n",
    "            plt.xlabel('Provincia')\n",
    "            plt.ylabel('Precio Mediano (€)')\n",
    "            plt.xticks(rotation=45, ha='right')\n",
    "            plt.tight_layout()\n",
    "            plt.show()\n",
    "            print(\"Precio Mediano por Provincia:\")\n",
    "            print(median_price_by_province)\n",
    "            print(\"-\" * 50)\n",
    "\n",
    "        if 'ciudad' in df.columns:\n",
    "            # Considerar solo las N ciudades más frecuentes o con más listados para un gráfico legible\n",
    "            top_n_cities = 15\n",
    "            if df['ciudad'].nunique() > top_n_cities:\n",
    "                common_cities = df['ciudad'].value_counts().nlargest(top_n_cities).index\n",
    "                df_common_cities = df[df['ciudad'].isin(common_cities)]\n",
    "            else:\n",
    "                df_common_cities = df.copy()\n",
    "\n",
    "            if not df_common_cities.empty:\n",
    "                plt.figure(figsize=(14, 8))\n",
    "                median_price_by_city = df_common_cities.groupby('ciudad')['precio'].median().sort_values(ascending=False)\n",
    "                sns.barplot(x=median_price_by_city.index, y=median_price_by_city.values, palette=\"magma\")\n",
    "                plt.title(f'Precio Mediano de Vivienda por Ciudad (Top {len(median_price_by_city)} Ciudades con más datos)')\n",
    "                plt.xlabel('Ciudad')\n",
    "                plt.ylabel('Precio Mediano (€)')\n",
    "                plt.xticks(rotation=60, ha='right')\n",
    "                plt.tight_layout()\n",
    "                plt.show()\n",
    "                print(f\"Precio Mediano por Ciudad (Top {len(median_price_by_city)}):\")\n",
    "                print(median_price_by_city)\n",
    "                print(\"-\" * 50)\n",
    "            else:\n",
    "                print(\"No hay suficientes datos de ciudades comunes para graficar.\")\n",
    "    else:\n",
    "        print(\"La columna 'precio' no es numérica o no existe, o faltan 'provincia'/'ciudad'.\")\n",
    "else:\n",
    "    print(\"El DataFrame está vacío.\")"
   ]
  },
  {
   "cell_type": "code",
   "execution_count": 19,
   "id": "f9c1c667",
   "metadata": {},
   "outputs": [
    {
     "name": "stdout",
     "output_type": "stream",
     "text": [
      "El DataFrame está vacío o la columna 'precio' no es adecuada para segmentación.\n"
     ]
    }
   ],
   "source": [
    "# Análisis de Características por Segmento de Precio\n",
    "if not df.empty and 'precio' in df.columns and pd.api.types.is_numeric_dtype(df['precio']):\n",
    "    # Definir segmentos de precio (ej. usando cuantiles)\n",
    "    # Asegurarse de que hay suficientes datos para que los cuantiles sean significativos\n",
    "    if len(df['precio'].dropna()) > 100: # Umbral arbitrario para asegurar robustez de cuantiles\n",
    "        try:\n",
    "            df['segmento_precio'] = pd.qcut(df['precio'], q=3, labels=['Bajo', 'Medio', 'Alto'], duplicates='drop')\n",
    "            print(\"Segmentos de precio definidos (Bajo, Medio, Alto).\")\n",
    "\n",
    "            # Analizar 'tipo_inmueble' por segmento de precio\n",
    "            if 'tipo_inmueble' in df.columns:\n",
    "                plt.figure(figsize=(12, 7))\n",
    "                sns.countplot(data=df, x='segmento_precio', hue='tipo_inmueble', palette=\"Set2\", order=['Bajo', 'Medio', 'Alto'])\n",
    "                plt.title('Distribución de Tipo de Inmueble por Segmento de Precio')\n",
    "                plt.xlabel('Segmento de Precio')\n",
    "                plt.ylabel('Cantidad')\n",
    "                plt.legend(title='Tipo de Inmueble', bbox_to_anchor=(1.05, 1), loc='upper left')\n",
    "                plt.tight_layout()\n",
    "                plt.show()\n",
    "\n",
    "            # Analizar 'superficie' media por segmento de precio\n",
    "            if 'superficie' in df.columns and pd.api.types.is_numeric_dtype(df['superficie']):\n",
    "                plt.figure(figsize=(8, 5))\n",
    "                sns.boxplot(data=df, x='segmento_precio', y='superficie', palette=\"Set3\", order=['Bajo', 'Medio', 'Alto'])\n",
    "                plt.title('Distribución de Superficie por Segmento de Precio')\n",
    "                plt.xlabel('Segmento de Precio')\n",
    "                plt.ylabel('Superficie (m²)')\n",
    "                plt.ylim(0, df['superficie'].quantile(0.95) if not df['superficie'].empty else 500) # Limitar y para mejor visualización\n",
    "                plt.tight_layout()\n",
    "                plt.show()\n",
    "        except ValueError as e:\n",
    "            print(f\"No se pudieron crear segmentos de precio (posiblemente por pocos datos o valores no únicos para cuantiles): {e}\")\n",
    "            if 'segmento_precio' in df.columns: # Limpiar si se creó parcialmente\n",
    "                df.drop(columns=['segmento_precio'], inplace=True)\n",
    "    else:\n",
    "        print(\"No hay suficientes datos de precio para segmentar de forma robusta.\")\n",
    "else:\n",
    "    print(\"El DataFrame está vacío o la columna 'precio' no es adecuada para segmentación.\")"
   ]
  },
  {
   "cell_type": "code",
   "execution_count": null,
   "id": "d5c2f3dd",
   "metadata": {},
   "outputs": [],
   "source": [
    "# Visualización Geográfica (Ejemplo con Scatter Plot si hay latitud/longitud)\n",
    "# Esto es un placeholder. Se necesitarían columnas de latitud y longitud.\n",
    "# Y librerías como geopandas, folium o plotly para mapas interactivos.\n",
    "\n",
    "# if not df.empty and 'latitud' in df.columns and 'longitud' in df.columns:\n",
    "#     import plotly.express as px\n",
    "#     # Filtrar outliers de precio para una mejor escala de color si se usa precio como color\n",
    "#     df_map = df[df['precio'] < df['precio'].quantile(0.99)] # Ejemplo\n",
    "# \n",
    "#     fig = px.scatter_mapbox(df_map,\n",
    "#                             lat=\"latitud\",\n",
    "#                             lon=\"longitud\",\n",
    "#                             color=\"precio_m2\", # o 'precio'\n",
    "#                             size=\"superficie\", # opcional\n",
    "#                             hover_name=\"direccion\", # si existe una columna de dirección\n",
    "#                             hover_data=[\"precio\", \"superficie\", \"provincia\"],\n",
    "#                             color_continuous_scale=px.colors.cyclical.IceFire,\n",
    "#                             size_max=15,\n",
    "#                             zoom=6,\n",
    "#                             height=700,\n",
    "#                             center={\"lat\": 37.5, \"lon\": -4.5}) # Centro aproximado de Andalucía\n",
    "#     fig.update_layout(mapbox_style=\"open-street-map\")\n",
    "#     fig.update_layout(margin={\"r\":0,\"t\":0,\"l\":0,\"b\":0})\n",
    "#     fig.show()\n",
    "# else:\n",
    "#     print(\"No hay datos de latitud/longitud para visualización geográfica, o el DataFrame está vacío.\")\n",
    "print(\"Placeholder para visualización geográfica: Se requieren datos de latitud/longitud y librerías geoespaciales.\")"
   ]
  },
  {
   "cell_type": "markdown",
   "id": "03ae4d56",
   "metadata": {},
   "source": [
    "### Conclusiones Específicas del Mercado Inmobiliario Andaluz\n",
    "*   **Variaciones de Precio por Provincia/Ciudad:**\n",
    "    *   ¿Qué provincias/ciudades tienen los precios medianos más altos y más bajos?\n",
    "    *   ¿Hay una gran dispersión de precios dentro de las provincias/ciudades?\n",
    "*   **Características por Segmento de Precio:**\n",
    "    *   ¿Qué tipos de inmuebles son más comunes en los segmentos de precio alto vs. bajo? (ej. chalets en alto, pisos en bajo/medio).\n",
    "    *   ¿Cómo varía la superficie media o el número de habitaciones entre los segmentos?\n",
    "*   **Distribución Geográfica (si se realizó):**\n",
    "    *   ¿Se observan \"hotspots\" de precios altos o bajos en el mapa?\n",
    "    *   ¿Cómo se distribuyen las propiedades por tipo o tamaño geográficamente?\n",
    "*   **Otras Observaciones:**\n",
    "    *   Cualquier otro patrón o insight relevante para el mercado andaluz que haya surgido del análisis (ej. relación entre antigüedad y precio por zona, características más demandadas, etc.).\n",
    "\n",
    "Este análisis final debe resumir los hallazgos más importantes y específicos del contexto del problema."
   ]
  },
  {
   "cell_type": "markdown",
   "id": "9ba91b11",
   "metadata": {},
   "source": [
    "# Fin del Análisis Exploratorio y Preprocesamiento\n",
    "\n",
    "El siguiente paso podría ser la preparación de datos para modelado (selección de características, codificación de categóricas, escalado) y la construcción de modelos predictivos."
   ]
  }
 ],
 "metadata": {
  "kernelspec": {
   "display_name": "Python 3",
   "language": "python",
   "name": "python3"
  },
  "language_info": {
   "codemirror_mode": {
    "name": "ipython",
    "version": 3
   },
   "file_extension": ".py",
   "mimetype": "text/x-python",
   "name": "python",
   "nbconvert_exporter": "python",
   "pygments_lexer": "ipython3",
   "version": "3.12.1"
  }
 },
 "nbformat": 4,
 "nbformat_minor": 5
}
